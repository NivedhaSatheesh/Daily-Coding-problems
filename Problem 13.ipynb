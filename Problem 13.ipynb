{
    "nbformat_minor": 1, 
    "cells": [
        {
            "execution_count": 6, 
            "cell_type": "code", 
            "metadata": {}, 
            "outputs": [], 
            "source": "MAX_CHARS = 26\n  \n#Function to calculate number of unique characters\n\ndef Unique(c, k): \n    value = 0\n    for i in range(MAX_CHARS): \n        if c[i] > 0: \n            value += 1\n  \n    # Returntrue if k is greater than or equal to value\n    return (k >= value) \n  "
        }, 
        {
            "execution_count": null, 
            "cell_type": "code", 
            "metadata": {}, 
            "outputs": [], 
            "source": "# Finds the maximum substring  \ndef kUniques(s, k): \n    num = 0    # number of unique characters \n    n = len(s) \n  \n    # array to store the count \n    count = [0] * MAX_CHARS \n  \n    # Tranverse the string\n    for i in range(n): \n        if count[ord(s[i])-ord('a')] == 0: \n            num += 1\n        count[ord(s[i])-ord('a')] += 1\n    if num < k: \n        print(\"Not enough unique characters\")\n        return\n  \n    # Otherwise take a window with first element in it. \n    # start and end variables. \n    curr_start = 0\n    curr_end = 0\n  \n    # Also initialize values for result longest window \n    max_window_size = 1\n    max_window_start = 0\n  \n    # Initialize associative array count[] with zero \n    count = [0] * len(count) \n  \n    count[ord(s[0])-ord('a')] += 1    # put the first character \n  \n    # Start from the second character and add \n    # characters in window according to above \n    # explanation \n    for i in range(1,n): \n        # Add the character 's[i]' to current window \n        count[ord(s[i])-ord('a')] += 1\n        curr_end+=1\n        while not isValid(count, k): \n            count[ord(s[curr_start])-ord('a')] -= 1\n            curr_start += 1\n  \n        # Update the max window size if required \n        if curr_end-curr_start+1 > max_window_size: \n            max_window_size = curr_end-curr_start+1\n            max_window_start = curr_start \n  \n    print(\"Max substring is : \" + s[max_window_start:] \n            + \" with length \" + str(max_window_size) )\n  \n# Driver function \ns = \"aabacbebebe\"\nk = 3\nkUniques(s, k) "
        }
    ], 
    "metadata": {
        "kernelspec": {
            "display_name": "Python 3.6", 
            "name": "python3", 
            "language": "python"
        }, 
        "language_info": {
            "mimetype": "text/x-python", 
            "nbconvert_exporter": "python", 
            "version": "3.6.8", 
            "name": "python", 
            "file_extension": ".py", 
            "pygments_lexer": "ipython3", 
            "codemirror_mode": {
                "version": 3, 
                "name": "ipython"
            }
        }
    }, 
    "nbformat": 4
}