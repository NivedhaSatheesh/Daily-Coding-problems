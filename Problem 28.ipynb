{
    "nbformat_minor": 1, 
    "cells": [
        {
            "source": "Run-length encoding is a fast and simple method of encoding strings. The basic idea is to represent repeated successive characters as a single count and character. For example, the string \"AAAABBBCCDAA\" would be encoded as \"4A3B2C1D2A\".", 
            "cell_type": "markdown", 
            "metadata": {}
        }, 
        {
            "execution_count": 2, 
            "cell_type": "code", 
            "metadata": {}, 
            "outputs": [
                {
                    "ename": "SyntaxError", 
                    "evalue": "invalid syntax (<ipython-input-2-fb98c0956992>, line 5)", 
                    "traceback": [
                        "\u001b[0;36m  File \u001b[0;32m\"<ipython-input-2-fb98c0956992>\"\u001b[0;36m, line \u001b[0;32m5\u001b[0m\n\u001b[0;31m    str.each_char.with_index do |char, i|\u001b[0m\n\u001b[0m                              ^\u001b[0m\n\u001b[0;31mSyntaxError\u001b[0m\u001b[0;31m:\u001b[0m invalid syntax\n"
                    ], 
                    "output_type": "error"
                }
            ], 
            "source": "def run_length_encoding(str1):\n\n    if str1.isalpha():  # no numbers, \n\n        encoded = ''\n        while str1:\n\n            index = 0\n            while index < len(str1) and str1[0] == str1[index]:\n                idx += 1\n\n            encoded += str(idx) + rle[0]\n            rle = rle[idx:]\n\n        return encoded\n\n    else:  # decode\n\n        return ''.join(c * int(n) for n, c in zip(rle[::2], rle[1::2]))\n\nstr1 = \"AAAABBBCCDAA\"\np run_length_encoding(str1)"
        }, 
        {
            "execution_count": null, 
            "cell_type": "code", 
            "metadata": {}, 
            "outputs": [], 
            "source": ""
        }
    ], 
    "metadata": {
        "kernelspec": {
            "display_name": "Python 3.6", 
            "name": "python3", 
            "language": "python"
        }, 
        "language_info": {
            "mimetype": "text/x-python", 
            "nbconvert_exporter": "python", 
            "version": "3.6.8", 
            "name": "python", 
            "file_extension": ".py", 
            "pygments_lexer": "ipython3", 
            "codemirror_mode": {
                "version": 3, 
                "name": "ipython"
            }
        }
    }, 
    "nbformat": 4
}