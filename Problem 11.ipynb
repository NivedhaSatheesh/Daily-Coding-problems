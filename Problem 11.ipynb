{
    "nbformat_minor": 1, 
    "cells": [
        {
            "execution_count": 1, 
            "cell_type": "code", 
            "metadata": {}, 
            "outputs": [], 
            "source": "class TrieNode(): \n    def __init__(self): \n          \n        self.children = {} \n        self.last = False"
        }, 
        {
            "execution_count": 2, 
            "cell_type": "code", 
            "metadata": {}, 
            "outputs": [], 
            "source": "class Trie(): \n    def __init__(self): \n          \n        self.root = TrieNode() \n        self.word_list = [] \n  \n    def formTrie(self, keys): \n          \n        for key in keys: \n            self.insert(key) \n  \n    def insert(self, key): \n          \n        # Inserts a key into trie if it does not exist already. \n        # And if the key is a prefix of the trie node, just  \n        # marks it as leaf node. \n        node = self.root \n  \n        for a in list(key): \n            if not node.children.get(a): \n                node.children[a] = TrieNode() \n  \n            node = node.children[a] \n  \n        node.last = True\n    def search(self, key): \n          \n        # Searches the given key in trie for a full match \n        # and returns True on success else returns False. \n        node = self.root \n        found = True\n  \n        for a in list(key): \n            if not node.children.get(a): \n                found = False\n                break\n  \n            node = node.children[a] \n  \n        return node and node.last and found \n  \n    def suggestionsRec(self, node, word): \n          \n        # Method to recursively traverse the trie \n        # and return a whole word.  \n        if node.last: \n            self.word_list.append(word) \n  \n        for a,n in node.children.items(): \n            self.suggestionsRec(n, word + a)\n    def printAutoSuggestions(self, key): \n          \n        # Returns all the words in the trie whose common \n        # prefix is the given key thus listing out all  \n        # the suggestions for autocomplete. \n        node = self.root \n        not_found = False\n        temp_word = '' \n  \n        for a in list(key): \n            if not node.children.get(a): \n                not_found = True\n                break\n  \n            temp_word += a \n            node = node.children[a] \n  \n        if not_found: \n            return 0\n        elif node.last and not node.children: \n            return -1\n  \n        self.suggestionsRec(node, temp_word) \n  \n        for s in self.word_list: \n            print(s) \n        return 1"
        }, 
        {
            "execution_count": null, 
            "cell_type": "code", 
            "metadata": {}, 
            "outputs": [], 
            "source": ""
        }
    ], 
    "metadata": {
        "kernelspec": {
            "display_name": "Python 3.6", 
            "name": "python3", 
            "language": "python"
        }, 
        "language_info": {
            "mimetype": "text/x-python", 
            "nbconvert_exporter": "python", 
            "version": "3.6.8", 
            "name": "python", 
            "file_extension": ".py", 
            "pygments_lexer": "ipython3", 
            "codemirror_mode": {
                "version": 3, 
                "name": "ipython"
            }
        }
    }, 
    "nbformat": 4
}