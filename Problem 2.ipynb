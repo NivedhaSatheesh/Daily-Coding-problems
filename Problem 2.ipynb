{
    "nbformat_minor": 1, 
    "cells": [
        {
            "source": "def product_array(arr):\n    n=len(arr)\n    \n    #Creating left, right and prod arrays\n    left=[0]*n\n    right=[0]*n\n    prod=[0]*n\n    \n    #Left most element and right most element is set to 1\n    left[0]=1\n    right[n-1]=1\n    \n    #Constructing left array\n    for i in range(1,n):\n        left[i]=arr[i-1]*left[i-1]\n        \n    #Constructing right array\n    for j in range(n-2,-1,-1):\n        right[j]=arr[j+1]*right[j+1]\n    \n    #Multiply left and right to create prod\n    for p in range(0,n):\n        prod[p]=left[p]*right[p]\n    \n    #Returning the prod array\n    return prod", 
            "cell_type": "code", 
            "metadata": {}, 
            "outputs": [], 
            "execution_count": 13
        }, 
        {
            "source": "arr=[1,2,3,4,5]", 
            "cell_type": "code", 
            "metadata": {}, 
            "outputs": [], 
            "execution_count": 14
        }, 
        {
            "source": "product_array(arr)", 
            "cell_type": "code", 
            "metadata": {}, 
            "outputs": [
                {
                    "output_type": "execute_result", 
                    "data": {
                        "text/plain": "[120, 60, 40, 30, 24]"
                    }, 
                    "execution_count": 15, 
                    "metadata": {}
                }
            ], 
            "execution_count": 15
        }, 
        {
            "source": "", 
            "cell_type": "code", 
            "metadata": {}, 
            "outputs": [], 
            "execution_count": null
        }
    ], 
    "metadata": {
        "kernelspec": {
            "display_name": "Python 3.6", 
            "name": "python3", 
            "language": "python"
        }, 
        "language_info": {
            "mimetype": "text/x-python", 
            "nbconvert_exporter": "python", 
            "version": "3.6.8", 
            "name": "python", 
            "pygments_lexer": "ipython3", 
            "file_extension": ".py", 
            "codemirror_mode": {
                "version": 3, 
                "name": "ipython"
            }
        }
    }, 
    "nbformat": 4
}