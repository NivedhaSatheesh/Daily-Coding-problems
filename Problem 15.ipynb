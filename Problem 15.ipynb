{
    "nbformat_minor": 1, 
    "cells": [
        {
            "execution_count": 1, 
            "cell_type": "code", 
            "metadata": {}, 
            "outputs": [
                {
                    "output_type": "stream", 
                    "name": "stdout", 
                    "text": "Random number from first 1 numbers is 1\nRandom number from first 2 numbers is 2\nRandom number from first 3 numbers is 3\nRandom number from first 4 numbers is 4\n"
                }
            ], 
            "source": "import random \n  \n#  function to randomly select a item \n\ndef selectRandom(x): \n      \n    # The resultant random number \n    result = 0; \n      \n    # Count of numbers visited  \n    cnt = 0; \n  \n    # increment count of numbers  \n    cnt += 1; \n  \n    # If this is the first element return it \n    if (cnt == 1): \n        result = x; \n    else: \n          \n        # Generate a random number  \n        i = random.randrange(cnt); \n        if (i == count - 1): \n            res = x; \n    return res; \n  \n# Driver Code \nstream = [1, 2, 3, 4]; \nn = len(stream); \n  \n# Use a different seed value  \n# for every run. \nfor i in range (n): \n    print(\"Random number from first\",  \n         (i + 1), \"numbers is\",  \n          selectRandom(stream[i])); "
        }, 
        {
            "execution_count": null, 
            "cell_type": "code", 
            "metadata": {}, 
            "outputs": [], 
            "source": ""
        }
    ], 
    "metadata": {
        "kernelspec": {
            "display_name": "Python 3.6", 
            "name": "python3", 
            "language": "python"
        }, 
        "language_info": {
            "mimetype": "text/x-python", 
            "nbconvert_exporter": "python", 
            "version": "3.6.8", 
            "name": "python", 
            "file_extension": ".py", 
            "pygments_lexer": "ipython3", 
            "codemirror_mode": {
                "version": 3, 
                "name": "ipython"
            }
        }
    }, 
    "nbformat": 4
}