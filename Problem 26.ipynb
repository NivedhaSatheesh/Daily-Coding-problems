{
    "nbformat_minor": 1, 
    "cells": [
        {
            "execution_count": 4, 
            "cell_type": "code", 
            "metadata": {}, 
            "outputs": [], 
            "source": "class Node: \n    def __init__(self, new_data): \n        self.data = new_data \n        self.next = None"
        }, 
        {
            "execution_count": 5, 
            "cell_type": "code", 
            "metadata": {}, 
            "outputs": [], 
            "source": "class LinkedList: \n    def __init__(self): \n        self.head = None\n  \n    # createNode and and make linked list \n    def push(self, new_data): \n        new_node = Node(new_data) \n        new_node.next = self.head \n        self.head = new_node \n  \n    # Function to get the nth node from the last of a linked list  \n    def printNthFromLast(self, n): \n        temp = self.head # used temp variable \n          \n        length = 0\n        while temp is not None: \n            temp = temp.next\n            length += 1\n        if n > length: # if entered location is greater than length of linked list \n            print('Location is greater than the' +\n                         ' length of LinkedList') \n            return\n        temp = self.head \n        for i in range(0, length - n): \n            temp = temp.next\n        print(temp.data) "
        }, 
        {
            "execution_count": 6, 
            "cell_type": "code", 
            "metadata": {}, 
            "outputs": [
                {
                    "output_type": "stream", 
                    "name": "stdout", 
                    "text": "35\n"
                }
            ], 
            "source": "# Driver Code         \nllist = LinkedList()  \nllist.push(20)  \nllist.push(4)  \nllist.push(15)  \nllist.push(35) \nllist.printNthFromLast(4) "
        }, 
        {
            "execution_count": null, 
            "cell_type": "code", 
            "metadata": {}, 
            "outputs": [], 
            "source": ""
        }
    ], 
    "metadata": {
        "kernelspec": {
            "display_name": "Python 3.6", 
            "name": "python3", 
            "language": "python"
        }, 
        "language_info": {
            "mimetype": "text/x-python", 
            "nbconvert_exporter": "python", 
            "version": "3.6.8", 
            "name": "python", 
            "file_extension": ".py", 
            "pygments_lexer": "ipython3", 
            "codemirror_mode": {
                "version": 3, 
                "name": "ipython"
            }
        }
    }, 
    "nbformat": 4
}