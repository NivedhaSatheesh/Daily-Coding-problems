{
    "nbformat_minor": 1, 
    "cells": [
        {
            "execution_count": 1, 
            "cell_type": "code", 
            "metadata": {}, 
            "outputs": [], 
            "source": "class XORLinkedListNode(object):\n\n        def __init__(self, val, prev, next):\n            self.val = val\n            self.both = prev ^ next\n\n        def next_node(self, prev_idx):\n            return self.both ^ prev_idx\n\n        def prev_node(self, next_idx):\n            return self.both ^ next_idx"
        }, 
        {
            "execution_count": 5, 
            "cell_type": "code", 
            "metadata": {}, 
            "outputs": [
                {
                    "execution_count": 5, 
                    "metadata": {}, 
                    "data": {
                        "text/plain": "<__main__.async-def-wrapper.<locals>.XORLinkedList at 0x7f62d817bb70>"
                    }, 
                    "output_type": "execute_result"
                }
            ], 
            "source": "class XORLinkedList(object):\n\n        def __init__(self):\n            self.memory = [XORLinkedListNode(None, -1, -1)]\n\n        def head(self):\n            return 0, -1, self.memory[0]  \n\n        def add(self, val):\n            current_node_index, previous_node_index, current_node = self.head()\n            while True:  # walk down the list until we find the end\n                next_node_index = current_node.next_node(previous_node_index)\n                if next_node_index == -1:  # we reached the end on the list\n                    break\n                previous_node_index, current_node_index = current_node_index, next_node_index\n                current_node = self.memory[next_node_index]\n\n            new_node_index = len(self.memory)  # \"allocation\"\n            current_node.both = previous_node_index ^ new_node_index\n            self.memory.append(XORLinkedListNode(val, current_node_index, -1))\n\n        def get(self, index):\n            current_index, previous_index, current_node = self.head()\n            for cnt in xrange(index + 1):\n                previous_index, current_index = current_index, current_node.next_node(previous_index)\n                current_node = self.memory[current_index]\n            return current_node.val\n\nreturn XORLinkedList()"
        }, 
        {
            "execution_count": null, 
            "cell_type": "code", 
            "metadata": {}, 
            "outputs": [], 
            "source": ""
        }
    ], 
    "metadata": {
        "kernelspec": {
            "display_name": "Python 3.6", 
            "name": "python3", 
            "language": "python"
        }, 
        "language_info": {
            "mimetype": "text/x-python", 
            "nbconvert_exporter": "python", 
            "version": "3.6.8", 
            "name": "python", 
            "file_extension": ".py", 
            "pygments_lexer": "ipython3", 
            "codemirror_mode": {
                "version": 3, 
                "name": "ipython"
            }
        }
    }, 
    "nbformat": 4
}