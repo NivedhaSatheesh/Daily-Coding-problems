{
    "nbformat_minor": 1, 
    "cells": [
        {
            "source": "class Node:\n    def __init__(self, value):\n        self.left = None\n        self.right = None\n        self.value = value", 
            "cell_type": "code", 
            "metadata": {}, 
            "outputs": [], 
            "execution_count": 7
        }, 
        {
            "source": "class Tree:\n    def __init__(self):\n        self.root = None\n\n    def addNode(self, node, value):\n        if node == None:\n            self.root = Node(value)\n        else:\n            if value < node.value:\n                if not node.left:\n                    node.left = Node(value)\n                else:\n                    self.addNode(node.left, value)\n            else:\n                if not node.right:\n                    node.right = Node(value)\n                else:\n                    self.addNode(node.right, value)\n", 
            "cell_type": "code", 
            "metadata": {}, 
            "outputs": [], 
            "execution_count": 31
        }, 
        {
            "source": "def serialize(root):\n    values = []\n    def serializer(node):\n        if not node:\n            values.append('-1')\n        else:\n            values.append(str(node.value))\n            serializer(node.left)\n            serializer(node.right)\n    serializer(root)\n    return ','.join(values)", 
            "cell_type": "code", 
            "metadata": {}, 
            "outputs": [], 
            "execution_count": 32
        }, 
        {
            "source": "def deserialize(str1):\n    values = iter(str1.split(','))\n    def deserializer():\n        val = next(values)\n        if val == '-1':\n            return None\n        else:\n            node = Node(int(val))\n            node.left = deserializer()\n            node.right = deserializer()\n            return node\n    return deserializer()", 
            "cell_type": "code", 
            "metadata": {}, 
            "outputs": [], 
            "execution_count": 33
        }, 
        {
            "source": "if __name__ == '__main__':\n    # Read input, numbers separated by commas\n    numbers = [int(n) for n in input().split(',')]\n    theTree = Tree()\n    for number in numbers:\n        theTree.addNode(theTree.root, number)\n    str1 = serialize(theTree.root)\n    str2 = serialize(deserialize(str1))\n    print(str1) \n    print(str2)\n    assert s1==s2", 
            "cell_type": "code", 
            "metadata": {}, 
            "outputs": [
                {
                    "output_type": "stream", 
                    "name": "stdout", 
                    "text": "8,9,11\n8,-1,9,-1,11,-1,-1\n8,-1,9,-1,11,-1,-1\n"
                }
            ], 
            "execution_count": 38
        }, 
        {
            "source": "", 
            "cell_type": "code", 
            "metadata": {}, 
            "outputs": [], 
            "execution_count": null
        }
    ], 
    "metadata": {
        "kernelspec": {
            "display_name": "Python 3.6", 
            "name": "python3", 
            "language": "python"
        }, 
        "language_info": {
            "mimetype": "text/x-python", 
            "nbconvert_exporter": "python", 
            "version": "3.6.8", 
            "name": "python", 
            "pygments_lexer": "ipython3", 
            "file_extension": ".py", 
            "codemirror_mode": {
                "version": 3, 
                "name": "ipython"
            }
        }
    }, 
    "nbformat": 4
}