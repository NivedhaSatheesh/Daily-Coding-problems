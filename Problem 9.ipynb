{
    "nbformat_minor": 1, 
    "cells": [
        {
            "source": "Given a list of integers, write a function that returns the largest sum of non-adjacent numbers. ", 
            "cell_type": "markdown", 
            "metadata": {}
        }, 
        {
            "execution_count": 4, 
            "cell_type": "code", 
            "metadata": {}, 
            "outputs": [], 
            "source": "def largestsum(arr):\n    incl_num=0\n    excl_num=0\n    for i in arr:\n        new_excl_num=max(incl_num,excl_num)\n        incl_num=excl_num+i\n        excl_num=new_excl_num\n    if incl_num>excl_num:\n        return incl_num\n    else:\n        return excl_num"
        }, 
        {
            "execution_count": 5, 
            "cell_type": "code", 
            "metadata": {}, 
            "outputs": [], 
            "source": "arr=[5,1,1,5]"
        }, 
        {
            "execution_count": 6, 
            "cell_type": "code", 
            "metadata": {}, 
            "outputs": [
                {
                    "execution_count": 6, 
                    "metadata": {}, 
                    "data": {
                        "text/plain": "10"
                    }, 
                    "output_type": "execute_result"
                }
            ], 
            "source": "largestsum(arr)"
        }, 
        {
            "execution_count": null, 
            "cell_type": "code", 
            "metadata": {}, 
            "outputs": [], 
            "source": ""
        }
    ], 
    "metadata": {
        "kernelspec": {
            "display_name": "Python 3.6", 
            "name": "python3", 
            "language": "python"
        }, 
        "language_info": {
            "mimetype": "text/x-python", 
            "nbconvert_exporter": "python", 
            "version": "3.6.8", 
            "name": "python", 
            "file_extension": ".py", 
            "pygments_lexer": "ipython3", 
            "codemirror_mode": {
                "version": 3, 
                "name": "ipython"
            }
        }
    }, 
    "nbformat": 4
}