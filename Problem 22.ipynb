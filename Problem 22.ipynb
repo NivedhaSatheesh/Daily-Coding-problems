{
    "nbformat_minor": 1, 
    "cells": [
        {
            "execution_count": null, 
            "cell_type": "code", 
            "metadata": {
                "collapsed": true
            }, 
            "outputs": [], 
            "source": "class solution:\n    def wordBreak(self,s,dict):\n        if len(dict==0):\n            return len(s)==0\n        dp=[False for i in range(len(s)+1)]\n        dp[0]=True\n        lengthList=[len(e) for e in dict]\n        maxLength=max(lengthList)\n        for i in range(len(s)+1):\n            for j in range(i):\n                if dp[i-j] and s[i-j:i] in dict:"
        }
    ], 
    "metadata": {
        "kernelspec": {
            "display_name": "Python 3.6", 
            "name": "python3", 
            "language": "python"
        }, 
        "language_info": {
            "mimetype": "text/x-python", 
            "nbconvert_exporter": "python", 
            "version": "3.6.8", 
            "name": "python", 
            "file_extension": ".py", 
            "pygments_lexer": "ipython3", 
            "codemirror_mode": {
                "version": 3, 
                "name": "ipython"
            }
        }
    }, 
    "nbformat": 4
}