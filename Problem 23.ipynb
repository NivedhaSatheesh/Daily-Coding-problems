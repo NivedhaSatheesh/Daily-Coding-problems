{
    "nbformat_minor": 1, 
    "cells": [
        {
            "execution_count": 2, 
            "cell_type": "code", 
            "metadata": {}, 
            "outputs": [
                {
                    "execution_count": 2, 
                    "metadata": {}, 
                    "data": {
                        "text/plain": "7"
                    }, 
                    "output_type": "execute_result"
                }
            ], 
            "source": "def matrix(matrix, start, end):\n    moves = [start]\n    x,y = start\n    while True:\n        if (x,y) == end:\n            return len(moves)-1\n        \n        can_go_top = x-1 >= 0 and not matrix[x-1][y] and (x-1,y) not in moves\n        can_go_left = y-1 >= 0 and not matrix[x][y-1] and (x,y-1) not in moves\n        can_go_bottom = x+1 < len(matrix) and not matrix[x+1][y] and (x+1,y) not in moves\n        can_go_right = y+1 < len(matrix[x]) and not matrix[x][y+1] and (x, y+1) not in moves\n\n        if x >= end[0]:\n            if y >= end[1]:\n                if can_go_top and (x > end[0] or not can_go_bottom) :  # TOP\n                    x = x-1\n                    moves.append((x,y))\n                elif can_go_left and (y > end[1] or not can_go_right) :  # LEFT\n                    y = y-1\n                    moves.append((x,y))\n                elif can_go_right and (y < end[1] or not can_go_left):  # RIGHT\n                    y = y+1\n                    moves.append((x,y))\n                elif can_go_bottom and (x < end[0] or not can_go_top):  # BOTTOM\n                    x = x+1\n                    moves.append((x,y))\n            else:\n                if can_go_top and (x > end[0] or not can_go_bottom) :  # TOP\n                    x = x-1\n                    moves.append((x,y))\n                elif can_go_right and (y < end[1] or not can_go_left):  # RIGHT\n                    y = y+1\n                    moves.append((x,y))\n                elif can_go_left and (y > end[1] or not can_go_right) :  # LEFT\n                    y = y-1\n                    moves.append((x,y))\n                elif can_go_bottom and (x < end[0] or not can_go_top):  # BOTTOM\n                    x = x+1\n                    moves.append((x,y))\n        else:\n            if y >= end[1]:\n                if can_go_bottom and (x < end[0] or not can_go_top):  # BOTTOM\n                    x = x+1\n                    moves.append((x,y))\n                elif can_go_left and (y > end[1] or not can_go_right) :  # LEFT\n                    y = y-1\n                    moves.append((x,y))\n                elif can_go_right and (y < end[1] or not can_go_left):  # RIGHT\n                    y = y+1\n                    moves.append((x,y))\n                elif can_go_top and (x > end[0] or not can_go_bottom) :  # TOP\n                    x = x-1\n                    moves.append((x,y))\n            else:\n                if can_go_bottom and (x < end[0] or not can_go_top):  # BOTTOM\n                    x = x+1\n                    moves.append((x,y))\n                elif can_go_right and (y < end[1] or not can_go_left):  # RIGHT\n                    y = y+1\n                    moves.append((x,y))\n                elif can_go_left and (y > end[1] or not can_go_right) :  # LEFT\n                    y = y-1\n                    moves.append((x,y))\n                elif can_go_top and (x > end[0] or not can_go_bottom) :  # TOP\n                    x = x-1\n                    moves.append((x,y))\nmatrix = [\n        [False, False,  False,  False],\n        [True,  True,   False,  True],\n        [False, False,  False,  False],\n        [False, False,  False,  False]\n    ]\nstart = (3, 0)\nend = (0, 0)\nproblem23(matrix, start, end) "
        }, 
        {
            "execution_count": null, 
            "cell_type": "code", 
            "metadata": {}, 
            "outputs": [], 
            "source": ""
        }
    ], 
    "metadata": {
        "kernelspec": {
            "display_name": "Python 3.6", 
            "name": "python3", 
            "language": "python"
        }, 
        "language_info": {
            "mimetype": "text/x-python", 
            "nbconvert_exporter": "python", 
            "version": "3.6.8", 
            "name": "python", 
            "file_extension": ".py", 
            "pygments_lexer": "ipython3", 
            "codemirror_mode": {
                "version": 3, 
                "name": "ipython"
            }
        }
    }, 
    "nbformat": 4
}