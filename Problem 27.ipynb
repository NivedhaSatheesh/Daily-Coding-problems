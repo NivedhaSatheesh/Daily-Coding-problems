{
    "nbformat_minor": 1, 
    "cells": [
        {
            "execution_count": 3, 
            "cell_type": "code", 
            "metadata": {}, 
            "outputs": [], 
            "source": "INF = 2147483647\ndef printSolution(p, n): \n    k = 0\n    if p[n] == 1: \n        k = 1\n    else: \n        k = printSolution(p, p[n] - 1) + 1\n    print('Line number ', k, ': From word no. ', \n                                 p[n], 'to ', n) \n    return k "
        }, 
        {
            "execution_count": 2, 
            "cell_type": "code", 
            "metadata": {}, 
            "outputs": [
                {
                    "output_type": "stream", 
                    "name": "stdout", 
                    "text": "Line number  1 : From word no.  1 to  1\nLine number  2 : From word no.  2 to  3\nLine number  3 : From word no.  4 to  4\n"
                }
            ], 
            "source": "l = [3, 2, 2, 5] \nn = len(l) \nM = 6\nsolveWordWrap(l, n, M) "
        }, 
        {
            "execution_count": null, 
            "cell_type": "code", 
            "metadata": {}, 
            "outputs": [], 
            "source": ""
        }
    ], 
    "metadata": {
        "kernelspec": {
            "display_name": "Python 3.6", 
            "name": "python3", 
            "language": "python"
        }, 
        "language_info": {
            "mimetype": "text/x-python", 
            "nbconvert_exporter": "python", 
            "version": "3.6.8", 
            "name": "python", 
            "file_extension": ".py", 
            "pygments_lexer": "ipython3", 
            "codemirror_mode": {
                "version": 3, 
                "name": "ipython"
            }
        }
    }, 
    "nbformat": 4
}