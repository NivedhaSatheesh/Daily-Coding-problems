{
    "nbformat_minor": 1, 
    "cells": [
        {
            "execution_count": 2, 
            "cell_type": "code", 
            "metadata": {}, 
            "outputs": [], 
            "source": "def overlaplecture(lecture1,lecture2):\n    if lecture1[1]<lecture2[0] or lecture2[1]<lecture1[0]:\n        return False\n    else:\n        return True"
        }, 
        {
            "execution_count": 3, 
            "cell_type": "code", 
            "metadata": {}, 
            "outputs": [], 
            "source": "def overlap(room,lecture_time):\n    overlap=False\n    for i in room:\n        if overlaplecture(i,lecture_time):\n            overlap=True\n            break\n    return overlap"
        }, 
        {
            "execution_count": 27, 
            "cell_type": "code", 
            "metadata": {}, 
            "outputs": [], 
            "source": "def find_num_rooms(lecture_time):\n    rooms=[]\n    for j in lecture_time:\n        if len(rooms)==0:\n            rooms=[[[None,None]]]\n            rooms[0][0]=j\n        else:\n            roomed=0\n            for k in rooms:\n                if not overlap(k,j):\n                    k.append(j)\n                    roomed=1\n                    break\n            if not roomed:\n                rooms.append([j])\n    return len(rooms)   "
        }, 
        {
            "execution_count": 30, 
            "cell_type": "code", 
            "metadata": {}, 
            "outputs": [], 
            "source": "list1=[[30, 75], [0, 50], [60, 150],[10,87],[100,120],[40,80],[150,200]]"
        }, 
        {
            "execution_count": 31, 
            "cell_type": "code", 
            "metadata": {}, 
            "outputs": [
                {
                    "execution_count": 31, 
                    "metadata": {}, 
                    "data": {
                        "text/plain": "4"
                    }, 
                    "output_type": "execute_result"
                }
            ], 
            "source": "find_num_rooms(list1)"
        }, 
        {
            "execution_count": null, 
            "cell_type": "code", 
            "metadata": {}, 
            "outputs": [], 
            "source": ""
        }
    ], 
    "metadata": {
        "kernelspec": {
            "display_name": "Python 3.6", 
            "name": "python3", 
            "language": "python"
        }, 
        "language_info": {
            "mimetype": "text/x-python", 
            "nbconvert_exporter": "python", 
            "version": "3.6.8", 
            "name": "python", 
            "file_extension": ".py", 
            "pygments_lexer": "ipython3", 
            "codemirror_mode": {
                "version": 3, 
                "name": "ipython"
            }
        }
    }, 
    "nbformat": 4
}