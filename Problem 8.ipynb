{
    "nbformat_minor": 1, 
    "cells": [
        {
            "source": "class Node: \n    # Utility function to create a new node \n    def __init__(self ,data): \n        self.data = data \n        self.left = None \n        self.right = None", 
            "cell_type": "code", 
            "metadata": {}, 
            "outputs": [], 
            "execution_count": 1
        }, 
        {
            "source": "def count(root , counter): \n     \n    if root is None : \n        return True\n  \n    # Recursively count in left and right subtrees  \n    left = count(root.left , counter) \n    right = count(root.right , counter) \n      \n    # If any of the subtrees is not singly, then return false \n    \n    if left == False or right  == False : \n        return False \n      \n    # If left subtree is singly and non-empty , but data doesn't match return false\n    if root.left and root.data != root.left.data: \n        return False\n  \n    #  right subtree \n    if root.right and root.data != root.right.data: \n        return False\n  \n    # If none of the above conditions is True, increment counter and return true \n    count[0] += 1\n    return True ", 
            "cell_type": "code", 
            "metadata": {}, 
            "outputs": [], 
            "execution_count": 6
        }, 
        {
            "source": "def counter(root): \n    # initialize  \n    counter = [0] \n  \n    #  function to count \n    count(root , counter) \n  \n    return counter[0] ", 
            "cell_type": "code", 
            "metadata": {}, 
            "outputs": [], 
            "execution_count": 7
        }, 
        {
            "source": "root = Node(0) \nroot.left = Node(1) \nroot.right = Node(0) \nroot.right.left = Node(1) \nroot.right.right = Node(0) \nroot.right.left.left = Node(1) \nroot.right.left.right = Node(0) \ncountSingle(root) \nprint (\"Count of Single Valued Subtress is\" , countSingle(root) )", 
            "cell_type": "code", 
            "metadata": {}, 
            "outputs": [
                {
                    "output_type": "stream", 
                    "name": "stdout", 
                    "text": "Count of Single Valued Subtress is 4\n"
                }
            ], 
            "execution_count": 10
        }, 
        {
            "source": "", 
            "cell_type": "code", 
            "metadata": {}, 
            "outputs": [], 
            "execution_count": null
        }
    ], 
    "metadata": {
        "kernelspec": {
            "display_name": "Python 3.6", 
            "name": "python3", 
            "language": "python"
        }, 
        "language_info": {
            "mimetype": "text/x-python", 
            "nbconvert_exporter": "python", 
            "version": "3.6.8", 
            "name": "python", 
            "pygments_lexer": "ipython3", 
            "file_extension": ".py", 
            "codemirror_mode": {
                "version": 3, 
                "name": "ipython"
            }
        }
    }, 
    "nbformat": 4
}